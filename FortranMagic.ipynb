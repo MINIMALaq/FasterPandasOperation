{
 "cells": [
  {
   "cell_type": "code",
   "execution_count": 23,
   "metadata": {},
   "outputs": [],
   "source": [
    "import pandas as pd\n",
    "import numpy as np"
   ]
  },
  {
   "cell_type": "code",
   "execution_count": 9,
   "metadata": {},
   "outputs": [],
   "source": [
    "sample = pd.read_csv('small_sample.csv')"
   ]
  },
  {
   "cell_type": "code",
   "execution_count": 10,
   "metadata": {},
   "outputs": [],
   "source": [
    "df = pd.concat([sample,sample,sample,sample,sample,sample],axis = 0)"
   ]
  },
  {
   "cell_type": "code",
   "execution_count": 11,
   "metadata": {},
   "outputs": [
    {
     "data": {
      "application/javascript": [
       "new Promise(function(resolve, reject) {\n",
       "\tvar script = document.createElement(\"script\");\n",
       "\tscript.onload = resolve;\n",
       "\tscript.onerror = reject;\n",
       "\tscript.src = \"https://raw.github.com/marijnh/CodeMirror/master/mode/fortran/fortran.js\";\n",
       "\tdocument.head.appendChild(script);\n",
       "}).then(() => {\n",
       "IPython.config.cell_magic_highlight['magic_fortran'] = {'reg':[/^%%fortran/]};\n",
       "});"
      ]
     },
     "metadata": {},
     "output_type": "display_data"
    }
   ],
   "source": [
    "%load_ext fortranmagic"
   ]
  },
  {
   "cell_type": "code",
   "execution_count": 18,
   "metadata": {},
   "outputs": [
    {
     "data": {
      "text/plain": [
       "'Simple fortran subroutine'"
      ]
     },
     "execution_count": 18,
     "metadata": {},
     "output_type": "execute_result"
    }
   ],
   "source": [
    "'Simple fortran subroutine'"
   ]
  },
  {
   "cell_type": "code",
   "execution_count": 24,
   "metadata": {},
   "outputs": [],
   "source": [
    "%%fortran\n",
    "\n",
    "subroutine fortran_devide(x, y, z)\n",
    "    real, intent(in) :: x,y\n",
    "    real, intent(out) :: z\n",
    "    \n",
    "    z = x/y\n",
    "    IF ( 0 .EQ. Y ) THEN \n",
    "         Z = 0\n",
    "    END IF\n",
    "    \n",
    "    \n",
    "end subroutine fortran_devide"
   ]
  },
  {
   "cell_type": "code",
   "execution_count": 25,
   "metadata": {},
   "outputs": [
    {
     "name": "stderr",
     "output_type": "stream",
     "text": [
      "/Users/mahdi.rasoulinezhad/code/my/lib/python3.7/site-packages/numpy/lib/function_base.py:2167: RuntimeWarning: divide by zero encountered in ? (vectorized)\n",
      "  outputs = ufunc(*inputs)\n"
     ]
    },
    {
     "name": "stdout",
     "output_type": "stream",
     "text": [
      "669 ms ± 22.8 ms per loop (mean ± std. dev. of 7 runs, 1 loop each)\n"
     ]
    }
   ],
   "source": [
    "%timeit np.vectorize(fortran_devide)(df['Time'],df['HelpfulnessNumerator'])"
   ]
  },
  {
   "cell_type": "code",
   "execution_count": 12,
   "metadata": {},
   "outputs": [],
   "source": [
    "%%fortran\n",
    "       subroutine fortran_array(x, y, z)\n",
    "            real, intent(in) :: x(:), y(:)\n",
    "            real, intent(out) :: z(size(x))\n",
    "            ! using vector operations\n",
    "            z(:) = x(:) / y(:)\n",
    "       end subroutine"
   ]
  },
  {
   "cell_type": "code",
   "execution_count": 13,
   "metadata": {},
   "outputs": [
    {
     "name": "stdout",
     "output_type": "stream",
     "text": [
      "10.8 ms ± 513 µs per loop (mean ± std. dev. of 7 runs, 100 loops each)\n"
     ]
    }
   ],
   "source": [
    "%timeit fortran_array(df['Time'],df['HelpfulnessNumerator'])"
   ]
  },
  {
   "cell_type": "code",
   "execution_count": 15,
   "metadata": {},
   "outputs": [
    {
     "data": {
      "text/plain": [
       "'lets use openmp'"
      ]
     },
     "execution_count": 15,
     "metadata": {},
     "output_type": "execute_result"
    }
   ],
   "source": [
    "'lets use openmp'"
   ]
  },
  {
   "cell_type": "code",
   "execution_count": 16,
   "metadata": {},
   "outputs": [
    {
     "name": "stdout",
     "output_type": "stream",
     "text": [
      "Running...\n",
      "   /Users/mahdi.rasoulinezhad/code/my/bin/python3 -m numpy.f2py --f90flags='-fopenmp' -lgomp -m _fortran_magic_5f1065350196776a8da595cc4ae935cc -c /Users/mahdi.rasoulinezhad/.ipython/fortran/_fortran_magic_5f1065350196776a8da595cc4ae935cc.f90\n",
      "running build\n",
      "running config_cc\n",
      "unifing config_cc, config, build_clib, build_ext, build commands --compiler options\n",
      "running config_fc\n",
      "unifing config_fc, config, build_clib, build_ext, build commands --fcompiler options\n",
      "running build_src\n",
      "build_src\n",
      "building extension \"_fortran_magic_5f1065350196776a8da595cc4ae935cc\" sources\n",
      "f2py options: []\n",
      "f2py:> /var/folders/js/yzxj9gss565_mv0q0bcjg5pc77vzp5/T/tmpzcoo0e18/src.macosx-10.15-x86_64-3.7/_fortran_magic_5f1065350196776a8da595cc4ae935ccmodule.c\n",
      "creating /var/folders/js/yzxj9gss565_mv0q0bcjg5pc77vzp5/T/tmpzcoo0e18/src.macosx-10.15-x86_64-3.7\n",
      "Reading fortran codes...\n",
      "\tReading file '/Users/mahdi.rasoulinezhad/.ipython/fortran/_fortran_magic_5f1065350196776a8da595cc4ae935cc.f90' (format:fix)\n",
      "Post-processing...\n",
      "\tBlock: _fortran_magic_5f1065350196776a8da595cc4ae935cc\n",
      "\t\t\tBlock: openmp_fortran\n",
      "In: :_fortran_magic_5f1065350196776a8da595cc4ae935cc:/Users/mahdi.rasoulinezhad/.ipython/fortran/_fortran_magic_5f1065350196776a8da595cc4ae935cc.f90:openmp_fortran\n",
      "get_useparameters: no module omp_lib info used by openmp_fortran\n",
      "Post-processing (stage 2)...\n",
      "Building modules...\n",
      "\tBuilding module \"_fortran_magic_5f1065350196776a8da595cc4ae935cc\"...\n",
      "\t\tCreating wrapper for Fortran subroutine \"openmp_fortran\"(\"openmp_fortran\")...\n",
      "\t\tConstructing wrapper function \"openmp_fortran\"...\n",
      "\t\t  z = openmp_fortran(x,y)\n",
      "\tWrote C/API module \"_fortran_magic_5f1065350196776a8da595cc4ae935cc\" to file \"/var/folders/js/yzxj9gss565_mv0q0bcjg5pc77vzp5/T/tmpzcoo0e18/src.macosx-10.15-x86_64-3.7/_fortran_magic_5f1065350196776a8da595cc4ae935ccmodule.c\"\n",
      "\tFortran 77 wrappers are saved to \"/var/folders/js/yzxj9gss565_mv0q0bcjg5pc77vzp5/T/tmpzcoo0e18/src.macosx-10.15-x86_64-3.7/_fortran_magic_5f1065350196776a8da595cc4ae935cc-f2pywrappers.f\"\n",
      "  adding '/var/folders/js/yzxj9gss565_mv0q0bcjg5pc77vzp5/T/tmpzcoo0e18/src.macosx-10.15-x86_64-3.7/fortranobject.c' to sources.\n",
      "  adding '/var/folders/js/yzxj9gss565_mv0q0bcjg5pc77vzp5/T/tmpzcoo0e18/src.macosx-10.15-x86_64-3.7' to include_dirs.\n",
      "copying /Users/mahdi.rasoulinezhad/code/my/lib/python3.7/site-packages/numpy/f2py/src/fortranobject.c -> /var/folders/js/yzxj9gss565_mv0q0bcjg5pc77vzp5/T/tmpzcoo0e18/src.macosx-10.15-x86_64-3.7\n",
      "copying /Users/mahdi.rasoulinezhad/code/my/lib/python3.7/site-packages/numpy/f2py/src/fortranobject.h -> /var/folders/js/yzxj9gss565_mv0q0bcjg5pc77vzp5/T/tmpzcoo0e18/src.macosx-10.15-x86_64-3.7\n",
      "  adding '/var/folders/js/yzxj9gss565_mv0q0bcjg5pc77vzp5/T/tmpzcoo0e18/src.macosx-10.15-x86_64-3.7/_fortran_magic_5f1065350196776a8da595cc4ae935cc-f2pywrappers.f' to sources.\n",
      "build_src: building npy-pkg config files\n",
      "running build_ext\n",
      "customize UnixCCompiler\n",
      "customize UnixCCompiler using build_ext\n",
      "get_default_fcompiler: matching types: '['gnu95', 'nag', 'absoft', 'ibm', 'intel', 'gnu', 'g95', 'pg']'\n",
      "customize Gnu95FCompiler\n",
      "Found executable /usr/local/bin/gfortran\n",
      "customize Gnu95FCompiler\n",
      "customize Gnu95FCompiler using build_ext\n",
      "building '_fortran_magic_5f1065350196776a8da595cc4ae935cc' extension\n",
      "compiling C sources\n",
      "C compiler: clang -Wno-unused-result -Wsign-compare -Wunreachable-code -fno-common -dynamic -DNDEBUG -g -fwrapv -O3 -Wall -I/Applications/Xcode.app/Contents/Developer/Platforms/MacOSX.platform/Developer/SDKs/MacOSX10.15.sdk/usr/include -I/Applications/Xcode.app/Contents/Developer/Platforms/MacOSX.platform/Developer/SDKs/MacOSX10.15.sdk/System/Library/Frameworks/Tk.framework/Versions/8.5/Headers\n",
      "\n",
      "creating /var/folders/js/yzxj9gss565_mv0q0bcjg5pc77vzp5/T/tmpzcoo0e18/var\n",
      "creating /var/folders/js/yzxj9gss565_mv0q0bcjg5pc77vzp5/T/tmpzcoo0e18/var/folders\n",
      "creating /var/folders/js/yzxj9gss565_mv0q0bcjg5pc77vzp5/T/tmpzcoo0e18/var/folders/js\n",
      "creating /var/folders/js/yzxj9gss565_mv0q0bcjg5pc77vzp5/T/tmpzcoo0e18/var/folders/js/yzxj9gss565_mv0q0bcjg5pc77vzp5\n",
      "creating /var/folders/js/yzxj9gss565_mv0q0bcjg5pc77vzp5/T/tmpzcoo0e18/var/folders/js/yzxj9gss565_mv0q0bcjg5pc77vzp5/T\n",
      "creating /var/folders/js/yzxj9gss565_mv0q0bcjg5pc77vzp5/T/tmpzcoo0e18/var/folders/js/yzxj9gss565_mv0q0bcjg5pc77vzp5/T/tmpzcoo0e18\n",
      "creating /var/folders/js/yzxj9gss565_mv0q0bcjg5pc77vzp5/T/tmpzcoo0e18/var/folders/js/yzxj9gss565_mv0q0bcjg5pc77vzp5/T/tmpzcoo0e18/src.macosx-10.15-x86_64-3.7\n",
      "compile options: '-I/var/folders/js/yzxj9gss565_mv0q0bcjg5pc77vzp5/T/tmpzcoo0e18/src.macosx-10.15-x86_64-3.7 -I/Users/mahdi.rasoulinezhad/code/my/lib/python3.7/site-packages/numpy/core/include -I/usr/local/include -I/usr/local/opt/openssl@1.1/include -I/usr/local/opt/sqlite/include -I/Users/mahdi.rasoulinezhad/code/my/include -I/usr/local/Cellar/python/3.7.6_1/Frameworks/Python.framework/Versions/3.7/include/python3.7m -c'\n",
      "clang: /var/folders/js/yzxj9gss565_mv0q0bcjg5pc77vzp5/T/tmpzcoo0e18/src.macosx-10.15-x86_64-3.7/_fortran_magic_5f1065350196776a8da595cc4ae935ccmodule.c\n",
      "clang: /var/folders/js/yzxj9gss565_mv0q0bcjg5pc77vzp5/T/tmpzcoo0e18/src.macosx-10.15-x86_64-3.7/fortranobject.c\n",
      "compiling Fortran sources\n",
      "Fortran f77 compiler: /usr/local/bin/gfortran -Wall -g -ffixed-form -fno-second-underscore -fPIC -O3 -funroll-loops\n",
      "Fortran f90 compiler: /usr/local/bin/gfortran -fopenmp -fPIC -O3 -funroll-loops\n",
      "Fortran fix compiler: /usr/local/bin/gfortran -Wall -g -ffixed-form -fno-second-underscore -fopenmp -fPIC -O3 -funroll-loops\n",
      "creating /var/folders/js/yzxj9gss565_mv0q0bcjg5pc77vzp5/T/tmpzcoo0e18/Users\n",
      "creating /var/folders/js/yzxj9gss565_mv0q0bcjg5pc77vzp5/T/tmpzcoo0e18/Users/mahdi.rasoulinezhad\n",
      "creating /var/folders/js/yzxj9gss565_mv0q0bcjg5pc77vzp5/T/tmpzcoo0e18/Users/mahdi.rasoulinezhad/.ipython\n",
      "creating /var/folders/js/yzxj9gss565_mv0q0bcjg5pc77vzp5/T/tmpzcoo0e18/Users/mahdi.rasoulinezhad/.ipython/fortran\n",
      "compile options: '-I/var/folders/js/yzxj9gss565_mv0q0bcjg5pc77vzp5/T/tmpzcoo0e18/src.macosx-10.15-x86_64-3.7 -I/Users/mahdi.rasoulinezhad/code/my/lib/python3.7/site-packages/numpy/core/include -I/usr/local/include -I/usr/local/opt/openssl@1.1/include -I/usr/local/opt/sqlite/include -I/Users/mahdi.rasoulinezhad/code/my/include -I/usr/local/Cellar/python/3.7.6_1/Frameworks/Python.framework/Versions/3.7/include/python3.7m -c'\n",
      "gfortran:fix: /Users/mahdi.rasoulinezhad/.ipython/fortran/_fortran_magic_5f1065350196776a8da595cc4ae935cc.f90\n",
      "gfortran:f77: /var/folders/js/yzxj9gss565_mv0q0bcjg5pc77vzp5/T/tmpzcoo0e18/src.macosx-10.15-x86_64-3.7/_fortran_magic_5f1065350196776a8da595cc4ae935cc-f2pywrappers.f\n",
      "/usr/local/bin/gfortran -Wall -g -Wall -g -undefined dynamic_lookup -bundle /var/folders/js/yzxj9gss565_mv0q0bcjg5pc77vzp5/T/tmpzcoo0e18/var/folders/js/yzxj9gss565_mv0q0bcjg5pc77vzp5/T/tmpzcoo0e18/src.macosx-10.15-x86_64-3.7/_fortran_magic_5f1065350196776a8da595cc4ae935ccmodule.o /var/folders/js/yzxj9gss565_mv0q0bcjg5pc77vzp5/T/tmpzcoo0e18/var/folders/js/yzxj9gss565_mv0q0bcjg5pc77vzp5/T/tmpzcoo0e18/src.macosx-10.15-x86_64-3.7/fortranobject.o /var/folders/js/yzxj9gss565_mv0q0bcjg5pc77vzp5/T/tmpzcoo0e18/Users/mahdi.rasoulinezhad/.ipython/fortran/_fortran_magic_5f1065350196776a8da595cc4ae935cc.o /var/folders/js/yzxj9gss565_mv0q0bcjg5pc77vzp5/T/tmpzcoo0e18/var/folders/js/yzxj9gss565_mv0q0bcjg5pc77vzp5/T/tmpzcoo0e18/src.macosx-10.15-x86_64-3.7/_fortran_magic_5f1065350196776a8da595cc4ae935cc-f2pywrappers.o -L/usr/local/Cellar/gcc/9.2.0_3/lib/gcc/9/gcc/x86_64-apple-darwin19/9.2.0 -L/usr/local/Cellar/gcc/9.2.0_3/lib/gcc/9/gcc/x86_64-apple-darwin19/9.2.0/../../.. -L/usr/local/Cellar/gcc/9.2.0_3/lib/gcc/9/gcc/x86_64-apple-darwin19/9.2.0/../../.. -L/usr/local/lib -L/usr/local/opt/openssl@1.1/lib -L/usr/local/opt/sqlite/lib -lgomp -lgfortran -o ./_fortran_magic_5f1065350196776a8da595cc4ae935cc.cpython-37m-darwin.so\n",
      "Removing build directory /var/folders/js/yzxj9gss565_mv0q0bcjg5pc77vzp5/T/tmpzcoo0e18\n"
     ]
    },
    {
     "name": "stderr",
     "output_type": "stream",
     "text": [
      "In file included from /var/folders/js/yzxj9gss565_mv0q0bcjg5pc77vzp5/T/tmpzcoo0e18/src.macosx-10.15-x86_64-3.7/fortranobject.c:2:\n",
      "In file included from /var/folders/js/yzxj9gss565_mv0q0bcjg5pc77vzp5/T/tmpzcoo0e18/src.macosx-10.15-x86_64-3.7/fortranobject.h:13:\n",
      "In file included from /Users/mahdi.rasoulinezhad/code/my/lib/python3.7/site-packages/numpy/core/include/numpy/arrayobject.h:4:\n",
      "In file included from /Users/mahdi.rasoulinezhad/code/my/lib/python3.7/site-packages/numpy/core/include/numpy/ndarrayobject.h:12:\n",
      "In file included from /Users/mahdi.rasoulinezhad/code/my/lib/python3.7/site-packages/numpy/core/include/numpy/ndarraytypes.h:1832:\n",
      "/Users/mahdi.rasoulinezhad/code/my/lib/python3.7/site-packages/numpy/core/include/numpy/npy_1_7_deprecated_api.h:17:2: warning: \"Using deprecated NumPy API, disable it with \"          \"#define NPY_NO_DEPRECATED_API NPY_1_7_API_VERSION\" [-W#warnings]\n",
      "#warning \"Using deprecated NumPy API, disable it with \" \\\n",
      " ^\n",
      "In file included from /var/folders/js/yzxj9gss565_mv0q0bcjg5pc77vzp5/T/tmpzcoo0e18/src.macosx-10.15-x86_64-3.7/_fortran_magic_5f1065350196776a8da595cc4ae935ccmodule.c:16:\n",
      "In file included from /var/folders/js/yzxj9gss565_mv0q0bcjg5pc77vzp5/T/tmpzcoo0e18/src.macosx-10.15-x86_64-3.7/fortranobject.h:13:\n",
      "In file included from /Users/mahdi.rasoulinezhad/code/my/lib/python3.7/site-packages/numpy/core/include/numpy/arrayobject.h:4:\n",
      "In file included from /Users/mahdi.rasoulinezhad/code/my/lib/python3.7/site-packages/numpy/core/include/numpy/ndarrayobject.h:12:\n",
      "In file included from /Users/mahdi.rasoulinezhad/code/my/lib/python3.7/site-packages/numpy/core/include/numpy/ndarraytypes.h:1832:\n",
      "/Users/mahdi.rasoulinezhad/code/my/lib/python3.7/site-packages/numpy/core/include/numpy/npy_1_7_deprecated_api.h:17:2: warning: \"Using deprecated NumPy API, disable it with \"          \"#define NPY_NO_DEPRECATED_API NPY_1_7_API_VERSION\" [-W#warnings]\n",
      "#warning \"Using deprecated NumPy API, disable it with \" \\\n",
      " ^\n",
      "1 warning generated.\n",
      "1 warning generated.\n"
     ]
    },
    {
     "name": "stdout",
     "output_type": "stream",
     "text": [
      "\n",
      "Ok. The following fortran objects are ready to use: openmp_fortran\n"
     ]
    }
   ],
   "source": [
    "%%fortran -vvv --f90flags='-fopenmp' --extra='-lgomp'\n",
    "       subroutine openmp_fortran(x, y, z)\n",
    "            use omp_lib\n",
    "            real, intent(in) :: x(:), y(:)\n",
    "            real, intent(out) :: z(size(x))\n",
    "            z(:) = x(:) / y(:)\n",
    "       end subroutine"
   ]
  },
  {
   "cell_type": "code",
   "execution_count": 17,
   "metadata": {},
   "outputs": [
    {
     "name": "stdout",
     "output_type": "stream",
     "text": [
      "11.1 ms ± 1.07 ms per loop (mean ± std. dev. of 7 runs, 100 loops each)\n"
     ]
    }
   ],
   "source": [
    "%timeit openmp_fortran(df['Time'],df['HelpfulnessNumerator'])"
   ]
  }
 ],
 "metadata": {
  "kernelspec": {
   "display_name": "Python 3",
   "language": "python",
   "name": "python3"
  },
  "language_info": {
   "codemirror_mode": {
    "name": "ipython",
    "version": 3
   },
   "file_extension": ".py",
   "mimetype": "text/x-python",
   "name": "python",
   "nbconvert_exporter": "python",
   "pygments_lexer": "ipython3",
   "version": "3.7.6"
  }
 },
 "nbformat": 4,
 "nbformat_minor": 4
}
